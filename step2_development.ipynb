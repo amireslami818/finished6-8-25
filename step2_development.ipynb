{
 "cells": [
  {
   "cell_type": "markdown",
   "metadata": {},
   "source": [
    "# Step 2 Development - Extract and Merge Sports Data\n",
    "\n",
    "This notebook will help us build step2.py incrementally.\n",
    "\n",
    "## Objective\n",
    "Extract specific fields from step1.json endpoints and merge by match ID."
   ]
  },
  {
   "cell_type": "code",
   "execution_count": null,
   "metadata": {},
   "outputs": [],
   "source": [
    "# Import required libraries\n",
    "import json\n",
    "import logging\n",
    "from datetime import datetime\n",
    "import pytz\n",
    "from pprint import pprint\n",
    "\n",
    "# Set up paths\n",
    "STEP1_JSON = \"/root/6-4-2025/step1.json\"\n",
    "STEP2_JSON = \"/root/6-4-2025/step2.json\"\n",
    "TZ = pytz.timezone(\"America/New_York\")"
   ]
  },
  {
   "cell_type": "markdown",
   "metadata": {},
   "source": [
    "## Step 1: Load step1.json and explore its structure"
   ]
  },
  {
   "cell_type": "code",
   "execution_count": null,
   "metadata": {},
   "outputs": [],
   "source": [
    "# Load step1.json\n",
    "with open(STEP1_JSON, 'r') as f:\n",
    "    step1_data = json.load(f)\n",
    "\n",
    "# Check top-level keys\n",
    "print(\"Top-level keys in step1.json:\")\n",
    "print(list(step1_data.keys())[:20])  # Show first 20 keys"
   ]
  },
  {
   "cell_type": "code",
   "execution_count": null,
   "metadata": {},
   "outputs": [],
   "source": [
    "# Check structure of live_matches\n",
    "if 'live_matches' in step1_data:\n",
    "    print(\"live_matches keys:\", list(step1_data['live_matches'].keys()))\n",
    "    if 'results' in step1_data['live_matches']:\n",
    "        print(f\"Number of live matches: {len(step1_data['live_matches']['results'])}\")\n",
    "        if step1_data['live_matches']['results']:\n",
    "            print(\"\\nFirst live match sample:\")\n",
    "            pprint(step1_data['live_matches']['results'][0])"
   ]
  },
  {
   "cell_type": "code",
   "execution_count": null,
   "metadata": {},
   "outputs": [],
   "source": [
    "# Check structure of match_details\n",
    "if 'match_details' in step1_data:\n",
    "    print(f\"match_details has {len(step1_data['match_details'])} entries\")\n",
    "    # Get first match ID\n",
    "    first_match_id = list(step1_data['match_details'].keys())[0] if step1_data['match_details'] else None\n",
    "    if first_match_id:\n",
    "        print(f\"\\nSample match_details for match {first_match_id}:\")\n",
    "        pprint(step1_data['match_details'][first_match_id])"
   ]
  },
  {
   "cell_type": "markdown",
   "metadata": {},
   "source": [
    "## Step 2: Define extraction functions for each endpoint\n",
    "\n",
    "### Fields to extract:\n",
    "- From `/match/detail_live` (Live Matches): `id`, `status_id`\n",
    "- From `/match/recent/list` (Match Details): `id`, `home_team_id`, `away_team_id`, `competition_id`, `status_id`, `home_scores`, `away_scores`, `home_position`, `away_position`\n",
    "- From `/odds/history` (Odds): Full structure organized by betting company IDs\n",
    "- From `/team/additional/list` (Teams): `id`, `name`, `country_id`, `competition_id`\n",
    "- From `/competition/additional/list` (Competitions): `id`, `name`\n",
    "- From `/country/list` (Countries): Cache separately"
   ]
  },
  {
   "cell_type": "code",
   "execution_count": null,
   "metadata": {},
   "outputs": [],
   "source": [
    "# Initialize result structure\n",
    "result = {\n",
    "    \"timestamp\": datetime.now(TZ).isoformat(),\n",
    "    \"matches_by_id\": {},\n",
    "    \"metadata\": {\n",
    "        \"processing_time\": 0,\n",
    "        \"total_matches\": 0,\n",
    "        \"total_teams\": 0,\n",
    "        \"total_competitions\": 0,\n",
    "        \"total_countries\": 0\n",
    "    }\n",
    "}\n",
    "\n",
    "# Track unique entities\n",
    "unique_teams = set()\n",
    "unique_competitions = set()\n",
    "unique_countries = set()"
   ]
  },
  {
   "cell_type": "code",
   "execution_count": null,
   "metadata": {},
   "outputs": [],
   "source": [
    "# Extract live matches (id and status_id only)\n",
    "live_matches = step1_data.get(\"live_matches\", {}).get(\"results\", [])\n",
    "print(f\"Processing {len(live_matches)} live matches...\")\n",
    "\n",
    "for match in live_matches:\n",
    "    match_id = str(match.get(\"id\", \"\"))\n",
    "    if match_id:\n",
    "        result[\"matches_by_id\"][match_id] = {\n",
    "            \"match_id\": match_id,\n",
    "            \"status_id\": match.get(\"status_id\")\n",
    "        }\n",
    "\n",
    "print(f\"Extracted {len(result['matches_by_id'])} matches from live_matches\")"
   ]
  },
  {
   "cell_type": "code",
   "execution_count": null,
   "metadata": {},
   "outputs": [],
   "source": [
    "# Build team lookup\n",
    "teams_data = step1_data.get(\"team_info\", {})\n",
    "teams_lookup = {}\n",
    "\n",
    "for team_id, team_wrapper in teams_data.items():\n",
    "    if isinstance(team_wrapper, dict) and \"results\" in team_wrapper:\n",
    "        team_list = team_wrapper.get(\"results\", [])\n",
    "        if team_list and isinstance(team_list, list) and len(team_list) > 0:\n",
    "            team = team_list[0]\n",
    "            teams_lookup[team_id] = {\n",
    "                \"id\": team.get(\"id\"),\n",
    "                \"name\": team.get(\"name\"),\n",
    "                \"country_id\": team.get(\"country_id\"),\n",
    "                \"competition_id\": team.get(\"competition_id\")\n",
    "            }\n",
    "            \n",
    "            # Track unique countries\n",
    "            if team.get(\"country_id\"):\n",
    "                unique_countries.add(team.get(\"country_id\"))\n",
    "\n",
    "print(f\"Built lookup for {len(teams_lookup)} teams\")\n",
    "print(f\"Found {len(unique_countries)} unique countries\")"
   ]
  },
  {
   "cell_type": "code",
   "execution_count": null,
   "metadata": {},
   "outputs": [],
   "source": [
    "# Build competition lookup\n",
    "competitions_data = step1_data.get(\"competition_info\", {})\n",
    "competitions_lookup = {}\n",
    "\n",
    "for comp_id, comp_wrapper in competitions_data.items():\n",
    "    if isinstance(comp_wrapper, dict) and \"results\" in comp_wrapper:\n",
    "        comp_list = comp_wrapper.get(\"results\", [])\n",
    "        if comp_list and isinstance(comp_list, list) and len(comp_list) > 0:\n",
    "            comp = comp_list[0]\n",
    "            competitions_lookup[comp_id] = {\n",
    "                \"id\": comp.get(\"id\"),\n",
    "                \"name\": comp.get(\"name\")\n",
    "            }\n",
    "\n",
    "print(f\"Built lookup for {len(competitions_lookup)} competitions\")"
   ]
  },
  {
   "cell_type": "markdown",
   "metadata": {},
   "source": [
    "## Step 3: Process match details and merge with live matches"
   ]
  },
  {
   "cell_type": "code",
   "execution_count": null,
   "metadata": {},
   "outputs": [],
   "source": [
    "# Process match details\n",
    "match_details = step1_data.get(\"match_details\", {})\n",
    "print(f\"Processing {len(match_details)} match details...\")\n",
    "\n",
    "matches_processed = 0\n",
    "for match_id, details_wrapper in match_details.items():\n",
    "    if isinstance(details_wrapper, dict) and \"results\" in details_wrapper:\n",
    "        details_list = details_wrapper.get(\"results\", [])\n",
    "        if details_list and isinstance(details_list, list) and len(details_list) > 0:\n",
    "            details = details_list[0]\n",
    "            \n",
    "            # Create match entry if it doesn't exist\n",
    "            if match_id not in result[\"matches_by_id\"]:\n",
    "                result[\"matches_by_id\"][match_id] = {\"match_id\": match_id}\n",
    "            \n",
    "            # Extract ONLY the specified fields\n",
    "            match_data = result[\"matches_by_id\"][match_id]\n",
    "            \n",
    "            # Basic match fields\n",
    "            match_data[\"home_team_id\"] = str(details.get(\"home_team_id\", \"\"))\n",
    "            match_data[\"away_team_id\"] = str(details.get(\"away_team_id\", \"\"))\n",
    "            match_data[\"competition_id\"] = str(details.get(\"competition_id\", \"\"))\n",
    "            match_data[\"status_id\"] = details.get(\"status_id\")\n",
    "            match_data[\"home_scores\"] = details.get(\"home_scores\")\n",
    "            match_data[\"away_scores\"] = details.get(\"away_scores\")\n",
    "            match_data[\"home_position\"] = details.get(\"home_position\")\n",
    "            match_data[\"away_position\"] = details.get(\"away_position\")\n",
    "            \n",
    "            # Track unique teams and competitions\n",
    "            if match_data.get(\"home_team_id\"):\n",
    "                unique_teams.add(match_data[\"home_team_id\"])\n",
    "            if match_data.get(\"away_team_id\"):\n",
    "                unique_teams.add(match_data[\"away_team_id\"])\n",
    "            if match_data.get(\"competition_id\"):\n",
    "                unique_competitions.add(match_data[\"competition_id\"])\n",
    "            \n",
    "            matches_processed += 1\n",
    "\n",
    "print(f\"Processed {matches_processed} match details\")\n",
    "print(f\"Total unique teams: {len(unique_teams)}\")\n",
    "print(f\"Total unique competitions: {len(unique_competitions)}\")"
   ]
  },
  {
   "cell_type": "code",
   "execution_count": null,
   "metadata": {},
   "outputs": [],
   "source": [
    "# Add team info to matches\n",
    "matches_with_teams = 0\n",
    "for match_id, match_data in result[\"matches_by_id\"].items():\n",
    "    # Add home team info\n",
    "    if match_data.get(\"home_team_id\") and match_data[\"home_team_id\"] in teams_lookup:\n",
    "        match_data[\"home_team\"] = teams_lookup[match_data[\"home_team_id\"]]\n",
    "        matches_with_teams += 1\n",
    "    \n",
    "    # Add away team info\n",
    "    if match_data.get(\"away_team_id\") and match_data[\"away_team_id\"] in teams_lookup:\n",
    "        match_data[\"away_team\"] = teams_lookup[match_data[\"away_team_id\"]]\n",
    "    \n",
    "    # Add competition info\n",
    "    if match_data.get(\"competition_id\") and match_data[\"competition_id\"] in competitions_lookup:\n",
    "        match_data[\"competition\"] = competitions_lookup[match_data[\"competition_id\"]]\n",
    "\n",
    "print(f\"Added team info to {matches_with_teams} matches\")"
   ]
  },
  {
   "cell_type": "markdown",
   "metadata": {},
   "source": [
    "## Step 4: Add odds data"
   ]
  },
  {
   "cell_type": "code",
   "execution_count": null,
   "metadata": {},
   "outputs": [],
   "source": [
    "# Process odds data\n",
    "odds_data = step1_data.get(\"match_odds\", {})\n",
    "matches_with_odds = 0\n",
    "\n",
    "for match_id, odds in odds_data.items():\n",
    "    if match_id in result[\"matches_by_id\"]:\n",
    "        # Keep the original odds structure with company IDs\n",
    "        result[\"matches_by_id\"][match_id][\"odds\"] = odds\n",
    "        matches_with_odds += 1\n",
    "\n",
    "print(f\"Added odds data to {matches_with_odds} matches\")"
   ]
  },
  {
   "cell_type": "markdown",
   "metadata": {},
   "source": [
    "## Step 5: Finalize metadata and save"
   ]
  },
  {
   "cell_type": "code",
   "execution_count": null,
   "metadata": {},
   "outputs": [],
   "source": [
    "# Update metadata\n",
    "result[\"metadata\"][\"total_matches\"] = len(result[\"matches_by_id\"])\n",
    "result[\"metadata\"][\"total_teams\"] = len(unique_teams)\n",
    "result[\"metadata\"][\"total_competitions\"] = len(unique_competitions)\n",
    "result[\"metadata\"][\"total_countries\"] = len(unique_countries)\n",
    "\n",
    "print(\"\\nFinal summary:\")\n",
    "print(f\"Total matches: {result['metadata']['total_matches']}\")\n",
    "print(f\"Total teams: {result['metadata']['total_teams']}\")\n",
    "print(f\"Total competitions: {result['metadata']['total_competitions']}\")\n",
    "print(f\"Total countries: {result['metadata']['total_countries']}\")"
   ]
  },
  {
   "cell_type": "code",
   "execution_count": null,
   "metadata": {},
   "outputs": [],
   "source": [
    "# Save to step2.json\n",
    "with open(STEP2_JSON, 'w') as f:\n",
    "    json.dump(result, f, indent=2)\n",
    "\n",
    "print(f\"\\nData saved to {STEP2_JSON}\")"
   ]
  },
  {
   "cell_type": "code",
   "execution_count": null,
   "metadata": {},
   "outputs": [],
   "source": [
    "# View a sample match to verify structure\n",
    "if result[\"matches_by_id\"]:\n",
    "    sample_match_id = list(result[\"matches_by_id\"].keys())[0]\n",
    "    print(f\"\\nSample match structure (ID: {sample_match_id}):\")\n",
    "    pprint(result[\"matches_by_id\"][sample_match_id])"
   ]
  }
 ],
 "metadata": {
  "kernelspec": {
   "display_name": "Python 3",
   "language": "python",
   "name": "python3"
  },
  "language_info": {
   "codemirror_mode": {
    "name": "ipython",
    "version": 3
   },
   "file_extension": ".py",
   "mimetype": "text/x-python",
   "name": "python",
   "nbconvert_exporter": "python",
   "pygments_lexer": "ipython3",
   "version": "3.8.0"
  }
 },
 "nbformat": 4,
 "nbformat_minor": 4
}
